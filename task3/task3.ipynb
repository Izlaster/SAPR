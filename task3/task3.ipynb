{
 "cells": [
  {
   "cell_type": "code",
   "execution_count": 1,
   "metadata": {},
   "outputs": [
    {
     "data": {
      "text/plain": [
       "array([[1, 2],\n",
       "       [1, 3],\n",
       "       [3, 4],\n",
       "       [3, 5]], dtype=int64)"
      ]
     },
     "execution_count": 1,
     "metadata": {},
     "output_type": "execute_result"
    }
   ],
   "source": [
    "import pandas as pd\n",
    "import numpy as np\n",
    "\n",
    "df = pd.read_csv(\"./data.csv\").to_numpy()\n",
    "df"
   ]
  },
  {
   "cell_type": "code",
   "execution_count": 2,
   "metadata": {},
   "outputs": [
    {
     "name": "stdout",
     "output_type": "stream",
     "text": [
      "row1 = {1, 3}, row2 = {2, 3, 4, 5}\n"
     ]
    }
   ],
   "source": [
    "row1 = set()\n",
    "row2 = set()\n",
    "\n",
    "for row in df:\n",
    "    row1.add(row[0])\n",
    "    row2.add(row[1])\n",
    "\n",
    "print(f\"row1 = {row1}, row2 = {row2}\")"
   ]
  },
  {
   "cell_type": "code",
   "execution_count": 3,
   "metadata": {},
   "outputs": [
    {
     "name": "stdout",
     "output_type": "stream",
     "text": [
      "row3 = {1}, row4 = {4, 5}\n"
     ]
    }
   ],
   "source": [
    "row3 = set()\n",
    "row4 = set()\n",
    "\n",
    "for row in df:\n",
    "    main = row[0]\n",
    "    sub = row[1]\n",
    "    for subrow in df:\n",
    "        if subrow[0] == sub:\n",
    "            row3.add(main)\n",
    "            row4.add(subrow[1])\n",
    "\n",
    "print(f\"row3 = {row3}, row4 = {row4}\")"
   ]
  },
  {
   "cell_type": "code",
   "execution_count": 4,
   "metadata": {},
   "outputs": [
    {
     "data": {
      "text/plain": [
       "{}"
      ]
     },
     "execution_count": 4,
     "metadata": {},
     "output_type": "execute_result"
    }
   ],
   "source": [
    "from queue import SimpleQueue\n",
    "\n",
    "q = SimpleQueue()\n",
    "q.put(0)\n",
    "\n",
    "row5 = {}\n",
    "\n",
    "while not q.empty():\n",
    "    main = q.get()\n",
    "    l = []\n",
    "    for row in df:\n",
    "        if row[0] == main:\n",
    "            l.append(row[1])\n",
    "            q.put(row[1])\n",
    "    if len(l) > 1:\n",
    "        row5[main] = l\n",
    "\n",
    "row5"
   ]
  },
  {
   "cell_type": "code",
   "execution_count": 5,
   "metadata": {},
   "outputs": [
    {
     "data": {
      "image/png": "[encoded data removed]",
      "text/plain": [
       "<Figure size 432x288 with 1 Axes>"
      ]
     },
     "metadata": {},
     "output_type": "display_data"
    }
   ],
   "source": [
    "import networkx as nx\n",
    "import matplotlib.pyplot as plt\n",
    "\n",
    "G = nx.Graph()\n",
    "G.add_edges_from(df)\n",
    "nx.draw_networkx(G)\n",
    "plt.show()"
   ]
  }
 ],
 "metadata": {
  "kernelspec": {
   "display_name": "Python 3.9.12 ('base')",
   "language": "python",
   "name": "python3"
  },
  "language_info": {
   "codemirror_mode": {
    "name": "ipython",
    "version": 3
   },
   "file_extension": ".py",
   "mimetype": "text/x-python",
   "name": "python",
   "nbconvert_exporter": "python",
   "pygments_lexer": "ipython3",
   "version": "3.9.12"
  },
  "vscode": {
   "interpreter": {
    "hash": "a657d8e1ce4748c7113b692692c67b92dffeb02e7a8f9685f8313688e442efd0"
   }
  }
 },
 "nbformat": 4,
 "nbformat_minor": 2
}
